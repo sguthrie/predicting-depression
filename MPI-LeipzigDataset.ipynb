{
 "cells": [
  {
   "cell_type": "markdown",
   "metadata": {},
   "source": [
    "# Examining the MPI-Leipzig Mind-Brain-Body Dataset\n",
    "\n",
    "The MRI data are available at https://openfmri.org/dataset/ds000221/. The behavioral data are available via NITRC: https://www.nitrc.org/projects/mpilmbb/. Note I was required to edit one file in the NITRC data (phenotype/BDI.json); it was missing a few `\"` marks required to be valid json format.\n",
    "\n",
    "### Behavoiral Data available\n",
    "\n",
    "Each `.json` file describes the headers of the correspondingly name `.tsv` file. "
   ]
  },
  {
   "cell_type": "code",
   "execution_count": 1,
   "metadata": {},
   "outputs": [
    {
     "name": "stdout",
     "output_type": "stream",
     "text": [
      "ACS.json\n",
      "ACS.tsv\n",
      "AMAS.json\n",
      "AMAS.tsv\n",
      "ASR.json\n",
      "ASR.tsv\n",
      "AUT.json\n",
      "AUT.tsv\n",
      "BCQ.json\n",
      "BCQ.tsv\n"
     ]
    }
   ],
   "source": [
    "%%bash\n",
    "ls MPI-Leipzig/behavioral_data_MPILMBB/phenotype | head"
   ]
  },
  {
   "cell_type": "markdown",
   "metadata": {},
   "source": [
    "We can investigate what keys are available in any `.tsv` header by examining the corresponding `.json` file:"
   ]
  },
  {
   "cell_type": "code",
   "execution_count": 2,
   "metadata": {},
   "outputs": [
    {
     "name": "stdout",
     "output_type": "stream",
     "text": [
      "{\n",
      "    \"MeasurementToolMetadata\": {\n",
      "        \"Description\": \"Beck's Depression Inventory II\",\n",
      "        \"TermURL\": \"\"\n",
      "    },\n",
      "    \"BDI_sum_1\": {\n",
      "      \"Description\": \"BDI Item 1\",\n",
      "      \"Derivative\": true\n",
      "    },\n",
      "    \"BDI_sum_2\": {\n"
     ]
    }
   ],
   "source": [
    "%%bash\n",
    "\n",
    "cat MPI-Leipzig/behavioral_data_MPILMBB/phenotype/BDI.json | head"
   ]
  },
  {
   "cell_type": "markdown",
   "metadata": {},
   "source": [
    "And we can investigate what values are associated with those behavioral keys by examining the `.tsv` files"
   ]
  },
  {
   "cell_type": "code",
   "execution_count": 13,
   "metadata": {},
   "outputs": [
    {
     "name": "stdout",
     "output_type": "stream",
     "text": [
      "participant_id\tBDI_sum_1\tBDI_sum_2\tBDI_sum_3\tBDI_sum_4\tBDI_sum_5\tBDI_sum_6\tBDI_sum_7\tBDI_sum_8\tBDI_sum_9\tBDI_sum_10\tBDI_sum_11\tBDI_sum_12\tBDI_sum_13\tBDI_sum_14\tBDI_sum_15\tBDI_sum_16\tBDI_sum_17\tBDI_sum_18\tBDI_sum_19\tBDI_sum_20\tBDI_sum_21\tBDI_summary_sum\n",
      "sub-010001\t0.0\t0.0\t0.0\t0.0\t1.0\t0.0\t0.0\t3.0\t0.0\t3.0\t1.0\t0.0\t0.0\t2.0\t0.0\t1.0\t1.0\t0.0\t0.0\t1.0\t3.0\t16.0\n",
      "sub-010002\t0.0\t0.0\t0.0\t0.0\t0.0\t0.0\t0.0\t0.0\t0.0\t0.0\t0.0\t0.0\t0.0\t0.0\t0.0\t0.0\t1.0\t0.0\t0.0\t0.0\t1.0\t2.0\n",
      "sub-010004\t0.0\t0.0\t0.0\t0.0\t0.0\t0.0\t0.0\t0.0\t0.0\t0.0\t0.0\t0.0\t1.0\t0.0\t0.0\t2.0\t1.0\t0.0\t0.0\t0.0\t1.0\t5.0\n",
      "sub-010005\t0.0\t0.0\t1.0\t0.0\t0.0\t0.0\t1.0\t0.0\t0.0\t0.0\t0.0\t0.0\t1.0\t0.0\t0.0\t1.0\t1.0\t0.0\t0.0\t0.0\t0.0\t5.0\n",
      "sub-010006\t0.0\t0.0\t0.0\t0.0\t0.0\t0.0\t0.0\t0.0\t0.0\t0.0\t1.0\t0.0\t0.0\t0.0\t0.0\t0.0\t1.0\t0.0\t0.0\t0.0\t0.0\t2.0\n",
      "sub-010007\t1.0\t0.0\t0.0\t1.0\t0.0\t0.0\t0.0\t0.0\t0.0\t1.0\t0.0\t0.0\t2.0\t0.0\t0.0\t1.0\t0.0\t0.0\t1.0\t0.0\t2.0\t9.0\n",
      "sub-010008\t0.0\t0.0\t0.0\t0.0\t1.0\t0.0\t1.0\t0.0\t0.0\t0.0\t1.0\t1.0\t0.0\t1.0\t0.0\t0.0\t0.0\t0.0\t0.0\t0.0\t0.0\t5.0\n",
      "sub-010009\t0.0\t0.0\t0.0\t0.0\t0.0\t1.0\t1.0\t0.0\t0.0\t0.0\t0.0\t0.0\t1.0\t1.0\t1.0\t0.0\t1.0\t0.0\t0.0\t0.0\t0.0\t6.0\n",
      "sub-010011\t0.0\t0.0\t0.0\t0.0\t0.0\t1.0\t0.0\t0.0\t0.0\t0.0\t0.0\t0.0\t0.0\t0.0\t0.0\t0.0\t0.0\t0.0\t0.0\t0.0\t0.0\t1.0\n"
     ]
    }
   ],
   "source": [
    "%%bash\n",
    "\n",
    "head MPI-Leipzig/behavioral_data_MPILMBB/phenotype/BDI.tsv"
   ]
  },
  {
   "cell_type": "markdown",
   "metadata": {},
   "source": [
    "### Investigating the range of data available\n",
    "\n",
    "Provided in this repository is the script `find_subjects_behavior_data.py` which takes as arguments a list of `.tsv` files and a list of corresponding behavior keys to examine for each file. It pulls out the data associated with the behavior key given (ex: `NEO_N`) for each subject in the corresponding `.tsv` file. It provides the function `get_data`, which returns:\n",
    " - `subjects`: a dictionary with the subject names as keys. The values are themselves dictionaries keyed by behavior key name. For example:\n",
    " ```\n",
    " subjects['sub-000021'] = {\n",
    "                             'BDI_summary_sum':1.0,\n",
    "                             'HADS-D_summary_sum':2.0,\n",
    "                             'NEO_N':63.0\n",
    "                          }\n",
    " ```\n",
    " Note the sub-dictionary values will always be floats. If the behavior test was not recorded for that subject, the behavior key will not be present in that subject's dictionary.\n",
    " - `complete_subjects`: a dictionary structured as `subjects`. Only includes subjects that have values for all behavior keys given.\n",
    " - `raw_data`: a dictionary keyed by behavior name. The value is a list of floats corresponding to all the entries in the `.tsv` file for that behavior key.\n",
    " - `complete_raw_data`: a dictionary keyed by behavior name. The value is a list of floats corresponding to the entries in the `.tsv` file for that behavior key that also have values for all other behavior keys. Note each behavior key's value will always be a subset of the behavior key's value in `raw_data`\n",
    "\n",
    "When run at the command-line, `find_subjects_behavior_data.py` will produce a set of box plots. Each box extends from the lower to upper quartile values of the data, with a line at the median. The whiskers extend from the box to show the range of the data. Flier points are those past the end of the whiskers. A dotted green line indicates the mean. The first column of box plots plot all available data for a given behavior key. The second column of box plots plot the data for a given behavior key such that the subjects who provide that data also have data for _every_ behavior key (taken from `complete_raw_data`). A row exists for each behavior key."
   ]
  },
  {
   "cell_type": "code",
   "execution_count": 1,
   "metadata": {
    "scrolled": false
   },
   "outputs": [
    {
     "name": "stdout",
     "output_type": "stream",
     "text": [
      "169 subjects have data in all given files\n"
     ]
    },
    {
     "data": {
      "image/png": "[encoded data removed]",
      "text/plain": [
       "<matplotlib.figure.Figure at 0x106a3ac18>"
      ]
     },
     "metadata": {},
     "output_type": "display_data"
    }
   ],
   "source": [
    "#Allow us to import python files in scripts\n",
    "import sys\n",
    "sys.path.append('./scripts')\n",
    "\n",
    "import matplotlib.pyplot as plt\n",
    "import numpy as np\n",
    "\n",
    "import find_subjects_behavior_data as fsbd\n",
    "\n",
    "#Arguments that would normally be passed through the command line call\n",
    "behavior_files = [\n",
    "    \"MPI-Leipzig/behavioral_data_MPILMBB/phenotype/BDI.tsv\",\n",
    "    \"MPI-Leipzig/behavioral_data_MPILMBB/phenotype/HADS.tsv\",\n",
    "    \"MPI-Leipzig/behavioral_data_MPILMBB/phenotype/NEO.tsv\"\n",
    "]\n",
    "behavior_keys = [\n",
    "    \"BDI_summary_sum\",\n",
    "    \"HADS-D_summary_sum\",\n",
    "    \"NEO_N\"\n",
    "]\n",
    "\n",
    "#Get data using find_subject_data\n",
    "subjects, complete_subjects, raw_data, complete_raw_data = fsbd.get_data(behavior_files, behavior_keys)\n",
    "\n",
    "fsbd.draw_figure(behavior_keys, raw_data, complete_raw_data)\n",
    "plt.show()\n"
   ]
  },
  {
   "cell_type": "markdown",
   "metadata": {
    "collapsed": true
   },
   "source": [
    "Now we have an easy way to see the range of the behavioral data available. A non-static version of the above code is below.\n",
    "\n",
    "### MRI data available"
   ]
  },
  {
   "cell_type": "markdown",
   "metadata": {
    "collapsed": true
   },
   "source": [
    "If you'd like to interactively work with find_subjects_data, a non-static version of the code is below:"
   ]
  },
  {
   "cell_type": "code",
   "execution_count": 2,
   "metadata": {
    "scrolled": false
   },
   "outputs": [
    {
     "name": "stdout",
     "output_type": "stream",
     "text": [
      "169 subjects have data in all given files\n"
     ]
    },
    {
     "data": {
      "application/vnd.jupyter.widget-view+json": {
       "model_id": "d7ad4925936c47b6bf53e8ab54b30f79"
      }
     },
     "metadata": {},
     "output_type": "display_data"
    }
   ],
   "source": [
    "%matplotlib notebook\n",
    "\n",
    "#Allow us to import python files in scripts\n",
    "import sys\n",
    "sys.path.append('./scripts')\n",
    "\n",
    "import matplotlib.pyplot as plt\n",
    "import numpy as np\n",
    "from ipywidgets import interactive \n",
    "\n",
    "import find_subjects_behavior_data as fsbd\n",
    "\n",
    "#Arguments that would normally be passed through the command line call\n",
    "behavior_files = [\n",
    "    \"MPI-Leipzig/behavioral_data_MPILMBB/phenotype/BDI.tsv\",\n",
    "    \"MPI-Leipzig/behavioral_data_MPILMBB/phenotype/HADS.tsv\",\n",
    "    \"MPI-Leipzig/behavioral_data_MPILMBB/phenotype/NEO.tsv\"\n",
    "]\n",
    "behavior_keys = [\n",
    "    \"BDI_summary_sum\",\n",
    "    \"HADS-D_summary_sum\",\n",
    "    \"NEO_N\"\n",
    "]\n",
    "\n",
    "#Get data using find_subject_data\n",
    "subjects, complete_subjects, raw_data, complete_raw_data = fsbd.get_data(behavior_files, behavior_keys)\n",
    "\n",
    "def draw_figure():\n",
    "    fsbd.draw_figure(behavior_keys, raw_data, complete_raw_data)\n",
    "    \n",
    "interactive_plot = interactive(draw_figure)\n",
    "interactive_plot\n"
   ]
  },
  {
   "cell_type": "code",
   "execution_count": null,
   "metadata": {
    "collapsed": true
   },
   "outputs": [],
   "source": []
  }
 ],
 "metadata": {
  "kernelspec": {
   "display_name": "Python 3",
   "language": "python",
   "name": "python3"
  },
  "language_info": {
   "codemirror_mode": {
    "name": "ipython",
    "version": 3
   },
   "file_extension": ".py",
   "mimetype": "text/x-python",
   "name": "python",
   "nbconvert_exporter": "python",
   "pygments_lexer": "ipython3",
   "version": "3.6.1"
  }
 },
 "nbformat": 4,
 "nbformat_minor": 2
}
